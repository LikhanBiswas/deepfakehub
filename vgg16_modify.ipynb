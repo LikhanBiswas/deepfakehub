{
  "nbformat": 4,
  "nbformat_minor": 0,
  "metadata": {
    "colab": {
      "name": "vgg16_modify.ipynb",
      "provenance": [],
      "collapsed_sections": [],
      "include_colab_link": true
    },
    "kernelspec": {
      "name": "python3",
      "display_name": "Python 3"
    },
    "language_info": {
      "name": "python"
    },
    "accelerator": "GPU"
  },
  "cells": [
    {
      "cell_type": "markdown",
      "metadata": {
        "id": "view-in-github",
        "colab_type": "text"
      },
      "source": [
        "<a href=\"https://colab.research.google.com/github/LikhanBiswas/deepfakehub/blob/main/vgg16_modify.ipynb\" target=\"_parent\"><img src=\"https://colab.research.google.com/assets/colab-badge.svg\" alt=\"Open In Colab\"/></a>"
      ]
    },
    {
      "cell_type": "code",
      "metadata": {
        "id": "BmeNtXcLQG_P",
        "colab": {
          "base_uri": "https://localhost:8080/"
        },
        "outputId": "04312e4f-de63-4d65-f805-323ccfca4347"
      },
      "source": [
        "from tensorflow.compat.v1 import ConfigProto\n",
        "from tensorflow.compat.v1 import InteractiveSession\n",
        "\n",
        "config = ConfigProto()\n",
        "config.gpu_options.per_process_gpu_memory_fraction = 0.5\n",
        "config.gpu_options.allow_growth = True\n",
        "session = InteractiveSession(config=config)"
      ],
      "execution_count": null,
      "outputs": [
        {
          "output_type": "stream",
          "text": [
            "/usr/local/lib/python3.7/dist-packages/tensorflow/python/client/session.py:1761: UserWarning: An interactive session is already active. This can cause out-of-memory errors in some cases. You must explicitly call `InteractiveSession.close()` to release resources held by the other session(s).\n",
            "  warnings.warn('An interactive session is already active. This can '\n"
          ],
          "name": "stderr"
        }
      ]
    },
    {
      "cell_type": "code",
      "metadata": {
        "colab": {
          "base_uri": "https://localhost:8080/"
        },
        "id": "Dz7EtkF7Ql2X",
        "outputId": "6139d08a-e23c-4fbd-dc2d-e408c2b3daf5"
      },
      "source": [
        "import tensorflow as tf\n",
        "print(tf.__version__)"
      ],
      "execution_count": null,
      "outputs": [
        {
          "output_type": "stream",
          "text": [
            "2.5.0\n"
          ],
          "name": "stdout"
        }
      ]
    },
    {
      "cell_type": "code",
      "metadata": {
        "id": "pdGxbVIWQnYV"
      },
      "source": [
        "# import the libraries as shown below\n",
        "\n",
        "from tensorflow.keras.layers import Input, Lambda, Dense, Flatten\n",
        "from tensorflow.keras.models import Model\n",
        "from tensorflow.keras.applications.vgg16 import VGG16\n",
        "from tensorflow.keras.applications.vgg19 import VGG19\n",
        "from tensorflow.keras.preprocessing import image\n",
        "from tensorflow.keras.preprocessing.image import ImageDataGenerator,load_img\n",
        "from tensorflow.keras.models import Sequential\n",
        "import numpy as np\n",
        "from glob import glob\n",
        "#import matplotlib.pyplot as plt"
      ],
      "execution_count": 1,
      "outputs": []
    },
    {
      "cell_type": "code",
      "metadata": {
        "colab": {
          "base_uri": "https://localhost:8080/"
        },
        "id": "vT8HzNfNQrFd",
        "outputId": "535302f5-b960-4a7b-f220-a6335e5435ad"
      },
      "source": [
        "from google.colab import drive\n",
        "drive.mount('/content/drive')"
      ],
      "execution_count": 2,
      "outputs": [
        {
          "output_type": "stream",
          "text": [
            "Mounted at /content/drive\n"
          ],
          "name": "stdout"
        }
      ]
    },
    {
      "cell_type": "code",
      "metadata": {
        "id": "GZnRSfYGQ-bc"
      },
      "source": [
        "# re-size all the images to this\n",
        "IMAGE_SIZE = [224, 224]\n",
        "train_path = '/content/drive/MyDrive/real vs fake/NEW_TRAIN_10K'\n",
        "valid_path = '/content/drive/MyDrive/real vs fake/test'"
      ],
      "execution_count": 3,
      "outputs": []
    },
    {
      "cell_type": "code",
      "metadata": {
        "id": "6f6Bs3P0RLFf",
        "colab": {
          "base_uri": "https://localhost:8080/"
        },
        "outputId": "78ea0b6b-052a-4527-81e6-f842335edb8b"
      },
      "source": [
        "# Import the VGG16 library as shown below and add preprocessing layer to the front of VGG\n",
        "# Here we will be using imagenet weights\n",
        "\n",
        "vgg16 = VGG16(input_shape=IMAGE_SIZE + [3], weights='imagenet', include_top=False)\n",
        "\n"
      ],
      "execution_count": 4,
      "outputs": [
        {
          "output_type": "stream",
          "text": [
            "Downloading data from https://storage.googleapis.com/tensorflow/keras-applications/vgg16/vgg16_weights_tf_dim_ordering_tf_kernels_notop.h5\n",
            "58892288/58889256 [==============================] - 1s 0us/step\n"
          ],
          "name": "stdout"
        }
      ]
    },
    {
      "cell_type": "code",
      "metadata": {
        "id": "tgj9QgSMRQNo"
      },
      "source": [
        "# don't train existing weights\n",
        "for layer in vgg16.layers:\n",
        "    layer.trainable = False"
      ],
      "execution_count": 5,
      "outputs": []
    },
    {
      "cell_type": "code",
      "metadata": {
        "id": "-1dJhChuRWH3"
      },
      "source": [
        "  # useful for getting number of output classes\n",
        "folders = glob('/content/drive/MyDrive/real vs fake/NEW_TRAIN_10K/*')"
      ],
      "execution_count": 6,
      "outputs": []
    },
    {
      "cell_type": "code",
      "metadata": {
        "colab": {
          "base_uri": "https://localhost:8080/"
        },
        "id": "v46B5GybRcRm",
        "outputId": "fd9b5068-fd77-45b7-a880-86468151e582"
      },
      "source": [
        "folders"
      ],
      "execution_count": 7,
      "outputs": [
        {
          "output_type": "execute_result",
          "data": {
            "text/plain": [
              "['/content/drive/MyDrive/real vs fake/NEW_TRAIN_10K/REAL',\n",
              " '/content/drive/MyDrive/real vs fake/NEW_TRAIN_10K/FAKE']"
            ]
          },
          "metadata": {
            "tags": []
          },
          "execution_count": 7
        }
      ]
    },
    {
      "cell_type": "code",
      "metadata": {
        "id": "kG4GHiRGRfan"
      },
      "source": [
        "# our layers - you can add more if you want\n",
        "x = Flatten()(vgg16.output)"
      ],
      "execution_count": 8,
      "outputs": []
    },
    {
      "cell_type": "code",
      "metadata": {
        "colab": {
          "base_uri": "https://localhost:8080/"
        },
        "id": "k7Rb1C1XRkMW",
        "outputId": "dbcb1da5-9e69-4530-99b9-ea919035baba"
      },
      "source": [
        "len(folders)"
      ],
      "execution_count": 9,
      "outputs": [
        {
          "output_type": "execute_result",
          "data": {
            "text/plain": [
              "2"
            ]
          },
          "metadata": {
            "tags": []
          },
          "execution_count": 9
        }
      ]
    },
    {
      "cell_type": "code",
      "metadata": {
        "id": "nr_k3r3fRmsP"
      },
      "source": [
        "prediction = Dense(len(folders), activation='softmax')(x)\n",
        "\n",
        "# create a model object\n",
        "model = Model(inputs=vgg16.input, outputs=prediction)"
      ],
      "execution_count": 10,
      "outputs": []
    },
    {
      "cell_type": "code",
      "metadata": {
        "id": "cGuH1ETNRpAR"
      },
      "source": [
        "# view the structure of the model\n",
        "#model.summary()\n"
      ],
      "execution_count": null,
      "outputs": []
    },
    {
      "cell_type": "code",
      "metadata": {
        "id": "0UyQ4XRERqfn"
      },
      "source": [
        "# tell the model what cost and optimization method to use\n",
        "model.compile(\n",
        "  loss='categorical_crossentropy',\n",
        "  optimizer='adam',\n",
        "  metrics=['accuracy']\n",
        ")\n"
      ],
      "execution_count": 11,
      "outputs": []
    },
    {
      "cell_type": "code",
      "metadata": {
        "id": "9eLssWYkRv_w"
      },
      "source": [
        "# Use the Image Data Generator to import the images from the dataset\n",
        "from tensorflow.keras.preprocessing.image import ImageDataGenerator\n",
        "\n",
        "train_datagen = ImageDataGenerator(rescale = 1./255,\n",
        "                                   shear_range = 0.3,\n",
        "                                   zoom_range=0.3,\n",
        "                                   rotation_range=90,\n",
        "                                   width_shift_range=0.3,\n",
        "                                   #fill_mode='wrap',\n",
        "                                   height_shift_range=0.3,\n",
        "                                   #channel_shift_range=150.0,\n",
        "                                   brightness_range=(0.1, 0.5),\n",
        "                                   vertical_flip=True,\n",
        "                                   horizontal_flip = True)\n",
        "\n",
        "test_datagen = ImageDataGenerator(rescale = 1./255)"
      ],
      "execution_count": 12,
      "outputs": []
    },
    {
      "cell_type": "code",
      "metadata": {
        "colab": {
          "base_uri": "https://localhost:8080/"
        },
        "id": "hlC4cp0TR0W6",
        "outputId": "407a003a-7901-4bb5-b09f-6be089705724"
      },
      "source": [
        "# Make sure you provide the same target size as initialied for the image size\n",
        "training_set = train_datagen.flow_from_directory('/content/drive/MyDrive/real vs fake/NEW_TRAIN_10K',\n",
        "                                                 target_size = (224, 224),\n",
        "                                                 batch_size = 32,\n",
        "                                                 color_mode='rgb',\n",
        "                                                 class_mode = 'categorical')"
      ],
      "execution_count": 13,
      "outputs": [
        {
          "output_type": "stream",
          "text": [
            "Found 10000 images belonging to 2 classes.\n"
          ],
          "name": "stdout"
        }
      ]
    },
    {
      "cell_type": "code",
      "metadata": {
        "colab": {
          "base_uri": "https://localhost:8080/"
        },
        "id": "NkaMFc-dR9GG",
        "outputId": "09b82e37-d28a-47e1-9641-5d66482c52c8"
      },
      "source": [
        "test_set = test_datagen.flow_from_directory('/content/drive/MyDrive/real vs fake/test',\n",
        "                                            target_size = (224, 224),\n",
        "                                            batch_size = 32,\n",
        "                                            color_mode='rgb',\n",
        "                                            class_mode = 'categorical')"
      ],
      "execution_count": 14,
      "outputs": [
        {
          "output_type": "stream",
          "text": [
            "Found 3000 images belonging to 2 classes.\n"
          ],
          "name": "stdout"
        }
      ]
    },
    {
      "cell_type": "code",
      "metadata": {
        "colab": {
          "base_uri": "https://localhost:8080/"
        },
        "id": "MWUXdlxVSBr3",
        "outputId": "fdd10d07-0a18-4a68-b451-b8194ed95056"
      },
      "source": [
        "# fit the model\n",
        "# Run the cell. It will take some time to execute\n",
        "r = model.fit(\n",
        "  training_set,\n",
        "  validation_data=test_set,\n",
        "  epochs=20,\n",
        "  steps_per_epoch=len(training_set),\n",
        "  validation_steps=len(test_set)\n",
        ")"
      ],
      "execution_count": 15,
      "outputs": [
        {
          "output_type": "stream",
          "text": [
            "Epoch 1/20\n",
            "313/313 [==============================] - 3824s 12s/step - loss: 0.3471 - accuracy: 0.8517 - val_loss: 1.4538 - val_accuracy: 0.6617\n",
            "Epoch 2/20\n",
            "313/313 [==============================] - 160s 512ms/step - loss: 0.2270 - accuracy: 0.9035 - val_loss: 0.9406 - val_accuracy: 0.7837\n",
            "Epoch 3/20\n",
            "313/313 [==============================] - 159s 509ms/step - loss: 0.1891 - accuracy: 0.9228 - val_loss: 0.5045 - val_accuracy: 0.8810\n",
            "Epoch 4/20\n",
            "313/313 [==============================] - 159s 508ms/step - loss: 0.1708 - accuracy: 0.9313 - val_loss: 0.3953 - val_accuracy: 0.9063\n",
            "Epoch 5/20\n",
            "313/313 [==============================] - 163s 521ms/step - loss: 0.1559 - accuracy: 0.9391 - val_loss: 0.9446 - val_accuracy: 0.7893\n",
            "Epoch 6/20\n",
            "313/313 [==============================] - 161s 514ms/step - loss: 0.1596 - accuracy: 0.9366 - val_loss: 0.3095 - val_accuracy: 0.9257\n",
            "Epoch 7/20\n",
            "313/313 [==============================] - 160s 510ms/step - loss: 0.1453 - accuracy: 0.9403 - val_loss: 0.5553 - val_accuracy: 0.8923\n",
            "Epoch 8/20\n",
            "313/313 [==============================] - 159s 508ms/step - loss: 0.1505 - accuracy: 0.9382 - val_loss: 0.8351 - val_accuracy: 0.8397\n",
            "Epoch 9/20\n",
            "313/313 [==============================] - 160s 510ms/step - loss: 0.1523 - accuracy: 0.9400 - val_loss: 0.5355 - val_accuracy: 0.9000\n",
            "Epoch 10/20\n",
            "313/313 [==============================] - 159s 507ms/step - loss: 0.1542 - accuracy: 0.9403 - val_loss: 0.2780 - val_accuracy: 0.9367\n",
            "Epoch 11/20\n",
            "313/313 [==============================] - 159s 508ms/step - loss: 0.1505 - accuracy: 0.9420 - val_loss: 0.2610 - val_accuracy: 0.9420\n",
            "Epoch 12/20\n",
            "313/313 [==============================] - 160s 510ms/step - loss: 0.1403 - accuracy: 0.9443 - val_loss: 0.3733 - val_accuracy: 0.9257\n",
            "Epoch 13/20\n",
            "313/313 [==============================] - 159s 509ms/step - loss: 0.1368 - accuracy: 0.9487 - val_loss: 0.6469 - val_accuracy: 0.8763\n",
            "Epoch 14/20\n",
            "313/313 [==============================] - 159s 506ms/step - loss: 0.1293 - accuracy: 0.9462 - val_loss: 0.7099 - val_accuracy: 0.8843\n",
            "Epoch 15/20\n",
            "313/313 [==============================] - 159s 508ms/step - loss: 0.1356 - accuracy: 0.9445 - val_loss: 0.8047 - val_accuracy: 0.8627\n",
            "Epoch 16/20\n",
            "313/313 [==============================] - 160s 510ms/step - loss: 0.1274 - accuracy: 0.9500 - val_loss: 0.6820 - val_accuracy: 0.8940\n",
            "Epoch 17/20\n",
            "313/313 [==============================] - ETA: 0s - loss: 0.1191 - accuracy: 0.9538Epoch 18/20\n",
            "313/313 [==============================] - 158s 505ms/step - loss: 0.1322 - accuracy: 0.9488 - val_loss: 0.6361 - val_accuracy: 0.9017\n",
            "Epoch 19/20\n",
            "313/313 [==============================] - 160s 513ms/step - loss: 0.1300 - accuracy: 0.9490 - val_loss: 0.6705 - val_accuracy: 0.9027\n",
            "Epoch 20/20\n",
            "313/313 [==============================] - 161s 514ms/step - loss: 0.1248 - accuracy: 0.9505 - val_loss: 0.7682 - val_accuracy: 0.8833\n"
          ],
          "name": "stdout"
        }
      ]
    },
    {
      "cell_type": "code",
      "metadata": {
        "id": "fdREvt2kSYcA"
      },
      "source": [
        "import matplotlib.pyplot as plt"
      ],
      "execution_count": 16,
      "outputs": []
    },
    {
      "cell_type": "code",
      "metadata": {
        "colab": {
          "base_uri": "https://localhost:8080/",
          "height": 530
        },
        "id": "h2jS5pWVScCn",
        "outputId": "0316ca39-4c9d-4d45-975b-fa63cb6f1985"
      },
      "source": [
        "# plot the loss\n",
        "plt.plot(r.history['loss'], label='train loss')\n",
        "plt.plot(r.history['val_loss'], label='val loss')\n",
        "plt.legend()\n",
        "plt.show()\n",
        "plt.savefig('LossVal_loss')\n",
        "\n",
        "# plot the accuracy\n",
        "plt.plot(r.history['accuracy'], label='train acc')\n",
        "plt.plot(r.history['val_accuracy'], label='val acc')\n",
        "plt.legend()\n",
        "plt.show()\n",
        "plt.savefig('AccVal_acc')"
      ],
      "execution_count": 17,
      "outputs": [
        {
          "output_type": "display_data",
          "data": {
            "image/png": "[encoded data removed]",
            "text/plain": [
              "<Figure size 432x288 with 1 Axes>"
            ]
          },
          "metadata": {
            "tags": [],
            "needs_background": "light"
          }
        },
        {
          "output_type": "display_data",
          "data": {
            "image/png": "[encoded data removed]",
            "text/plain": [
              "<Figure size 432x288 with 1 Axes>"
            ]
          },
          "metadata": {
            "tags": [],
            "needs_background": "light"
          }
        },
        {
          "output_type": "display_data",
          "data": {
            "text/plain": [
              "<Figure size 432x288 with 0 Axes>"
            ]
          },
          "metadata": {
            "tags": []
          }
        }
      ]
    },
    {
      "cell_type": "code",
      "metadata": {
        "id": "YGURZTVeSikm"
      },
      "source": [
        "# save it as a h5 file\n",
        "\n",
        "\n",
        "from tensorflow.keras.models import load_model\n",
        "\n",
        "model.save('model_vgg16.h5')"
      ],
      "execution_count": null,
      "outputs": []
    },
    {
      "cell_type": "code",
      "metadata": {
        "id": "7Qe86ud_SnIf"
      },
      "source": [
        "y_pred = model.predict(test_set)"
      ],
      "execution_count": null,
      "outputs": []
    },
    {
      "cell_type": "code",
      "metadata": {
        "colab": {
          "base_uri": "https://localhost:8080/"
        },
        "id": "8gYCqbsRSpbG",
        "outputId": "6f65a692-a0a7-40b8-dd28-3814b615a8b6"
      },
      "source": [
        "y_pred"
      ],
      "execution_count": null,
      "outputs": [
        {
          "output_type": "execute_result",
          "data": {
            "text/plain": [
              "array([[1.0000000e+00, 3.7779184e-09],\n",
              "       [1.9590292e-19, 1.0000000e+00],\n",
              "       [1.0176699e-18, 1.0000000e+00],\n",
              "       ...,\n",
              "       [9.9998999e-01, 1.0011172e-05],\n",
              "       [1.4800532e-12, 1.0000000e+00],\n",
              "       [9.9938738e-01, 6.1258499e-04]], dtype=float32)"
            ]
          },
          "metadata": {
            "tags": []
          },
          "execution_count": 23
        }
      ]
    },
    {
      "cell_type": "code",
      "metadata": {
        "id": "LhtF3WtISpiK"
      },
      "source": [
        "import numpy as np\n",
        "y_pred = np.argmax(y_pred, axis=1)"
      ],
      "execution_count": null,
      "outputs": []
    },
    {
      "cell_type": "code",
      "metadata": {
        "colab": {
          "base_uri": "https://localhost:8080/"
        },
        "id": "72Yp102dSvM3",
        "outputId": "e7deac62-961c-4cc7-b96a-819130e3e175"
      },
      "source": [
        "y_pred"
      ],
      "execution_count": null,
      "outputs": [
        {
          "output_type": "execute_result",
          "data": {
            "text/plain": [
              "array([0, 1, 1, ..., 0, 1, 0])"
            ]
          },
          "metadata": {
            "tags": []
          },
          "execution_count": 25
        }
      ]
    },
    {
      "cell_type": "code",
      "metadata": {
        "id": "fpHunBdoSyMn"
      },
      "source": [
        "from tensorflow.keras.models import load_model\n",
        "from tensorflow.keras.preprocessing import image"
      ],
      "execution_count": null,
      "outputs": []
    },
    {
      "cell_type": "code",
      "metadata": {
        "id": "oP3kzXhmkuHy"
      },
      "source": [
        "model=load_model('model_vgg16.h5')"
      ],
      "execution_count": null,
      "outputs": []
    }
  ]
}